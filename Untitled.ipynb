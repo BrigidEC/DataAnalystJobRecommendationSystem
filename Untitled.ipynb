{
 "cells": [
  {
   "cell_type": "code",
   "execution_count": 1,
   "metadata": {},
   "outputs": [],
   "source": [
    "import numpy as np \n",
    "import pandas as pd\n",
    "import re\n",
    "import seaborn as sns\n",
    "import matplotlib.pyplot as plt\n",
    "import warnings"
   ]
  },
  {
   "cell_type": "code",
   "execution_count": 2,
   "metadata": {},
   "outputs": [
    {
     "data": {
      "text/html": [
       "<div>\n",
       "<style scoped>\n",
       "    .dataframe tbody tr th:only-of-type {\n",
       "        vertical-align: middle;\n",
       "    }\n",
       "\n",
       "    .dataframe tbody tr th {\n",
       "        vertical-align: top;\n",
       "    }\n",
       "\n",
       "    .dataframe thead th {\n",
       "        text-align: right;\n",
       "    }\n",
       "</style>\n",
       "<table border=\"1\" class=\"dataframe\">\n",
       "  <thead>\n",
       "    <tr style=\"text-align: right;\">\n",
       "      <th></th>\n",
       "      <th>Job category</th>\n",
       "      <th>Resume</th>\n",
       "    </tr>\n",
       "  </thead>\n",
       "  <tbody>\n",
       "    <tr>\n",
       "      <th>0</th>\n",
       "      <td>Data Science</td>\n",
       "      <td>Skills * Programming Languages: Python (pandas...</td>\n",
       "    </tr>\n",
       "    <tr>\n",
       "      <th>1</th>\n",
       "      <td>Data Science</td>\n",
       "      <td>Education Details \\r\\nMay 2013 to May 2017 B.E...</td>\n",
       "    </tr>\n",
       "    <tr>\n",
       "      <th>2</th>\n",
       "      <td>Data Science</td>\n",
       "      <td>Areas of Interest Deep Learning, Control Syste...</td>\n",
       "    </tr>\n",
       "    <tr>\n",
       "      <th>3</th>\n",
       "      <td>Data Science</td>\n",
       "      <td>Skills â¢ R â¢ Python â¢ SAP HANA â¢ Table...</td>\n",
       "    </tr>\n",
       "    <tr>\n",
       "      <th>4</th>\n",
       "      <td>Data Science</td>\n",
       "      <td>Education Details \\r\\n MCA   YMCAUST,  Faridab...</td>\n",
       "    </tr>\n",
       "  </tbody>\n",
       "</table>\n",
       "</div>"
      ],
      "text/plain": [
       "   Job category                                             Resume\n",
       "0  Data Science  Skills * Programming Languages: Python (pandas...\n",
       "1  Data Science  Education Details \\r\\nMay 2013 to May 2017 B.E...\n",
       "2  Data Science  Areas of Interest Deep Learning, Control Syste...\n",
       "3  Data Science  Skills â¢ R â¢ Python â¢ SAP HANA â¢ Table...\n",
       "4  Data Science  Education Details \\r\\n MCA   YMCAUST,  Faridab..."
      ]
     },
     "execution_count": 2,
     "metadata": {},
     "output_type": "execute_result"
    }
   ],
   "source": [
    "resumes = pd.read_csv('data/Resume1.csv')\n",
    "resumes.head()"
   ]
  },
  {
   "cell_type": "code",
   "execution_count": 3,
   "metadata": {},
   "outputs": [
    {
     "data": {
      "text/html": [
       "<div>\n",
       "<style scoped>\n",
       "    .dataframe tbody tr th:only-of-type {\n",
       "        vertical-align: middle;\n",
       "    }\n",
       "\n",
       "    .dataframe tbody tr th {\n",
       "        vertical-align: top;\n",
       "    }\n",
       "\n",
       "    .dataframe thead th {\n",
       "        text-align: right;\n",
       "    }\n",
       "</style>\n",
       "<table border=\"1\" class=\"dataframe\">\n",
       "  <thead>\n",
       "    <tr style=\"text-align: right;\">\n",
       "      <th></th>\n",
       "      <th>Job category</th>\n",
       "      <th>Resume</th>\n",
       "    </tr>\n",
       "  </thead>\n",
       "  <tbody>\n",
       "    <tr>\n",
       "      <th>0</th>\n",
       "      <td>Data or business analyst;Data scientist or mac...</td>\n",
       "      <td>Skills 6-8 yearsNANANANA</td>\n",
       "    </tr>\n",
       "    <tr>\n",
       "      <th>1</th>\n",
       "      <td>Data or business analyst;Data scientist or mac...</td>\n",
       "      <td>Skills 3-5 yearsNANANANA</td>\n",
       "    </tr>\n",
       "    <tr>\n",
       "      <th>2</th>\n",
       "      <td>Data or business analyst;Data scientist or mac...</td>\n",
       "      <td>Skills 3-5 yearsNANANANA</td>\n",
       "    </tr>\n",
       "    <tr>\n",
       "      <th>3</th>\n",
       "      <td>Data or business analyst;Data scientist or mac...</td>\n",
       "      <td>Skills 3-5 yearsNANANANA</td>\n",
       "    </tr>\n",
       "    <tr>\n",
       "      <th>4</th>\n",
       "      <td>Data or business analyst;Data scientist or mac...</td>\n",
       "      <td>Skills 12-14 yearsC#;JavaScript;Python;Ruby;SQ...</td>\n",
       "    </tr>\n",
       "  </tbody>\n",
       "</table>\n",
       "</div>"
      ],
      "text/plain": [
       "                                        Job category  \\\n",
       "0  Data or business analyst;Data scientist or mac...   \n",
       "1  Data or business analyst;Data scientist or mac...   \n",
       "2  Data or business analyst;Data scientist or mac...   \n",
       "3  Data or business analyst;Data scientist or mac...   \n",
       "4  Data or business analyst;Data scientist or mac...   \n",
       "\n",
       "                                              Resume  \n",
       "0                           Skills 6-8 yearsNANANANA  \n",
       "1                           Skills 3-5 yearsNANANANA  \n",
       "2                           Skills 3-5 yearsNANANANA  \n",
       "3                           Skills 3-5 yearsNANANANA  \n",
       "4  Skills 12-14 yearsC#;JavaScript;Python;Ruby;SQ...  "
      ]
     },
     "execution_count": 3,
     "metadata": {},
     "output_type": "execute_result"
    }
   ],
   "source": [
    "resumes2 = pd.read_csv('data/Resume2.csv')\n",
    "resumes2.head()"
   ]
  },
  {
   "cell_type": "code",
   "execution_count": 4,
   "metadata": {
    "scrolled": false
   },
   "outputs": [
    {
     "data": {
      "text/html": [
       "<div>\n",
       "<style scoped>\n",
       "    .dataframe tbody tr th:only-of-type {\n",
       "        vertical-align: middle;\n",
       "    }\n",
       "\n",
       "    .dataframe tbody tr th {\n",
       "        vertical-align: top;\n",
       "    }\n",
       "\n",
       "    .dataframe thead th {\n",
       "        text-align: right;\n",
       "    }\n",
       "</style>\n",
       "<table border=\"1\" class=\"dataframe\">\n",
       "  <thead>\n",
       "    <tr style=\"text-align: right;\">\n",
       "      <th></th>\n",
       "      <th>Job category</th>\n",
       "      <th>Resume</th>\n",
       "    </tr>\n",
       "  </thead>\n",
       "  <tbody>\n",
       "    <tr>\n",
       "      <th>1031</th>\n",
       "      <td>Data or business analyst;Data scientist or mac...</td>\n",
       "      <td>Skills 6-8 yearsC#;CoffeeScript;JavaScript;SQL...</td>\n",
       "    </tr>\n",
       "    <tr>\n",
       "      <th>1032</th>\n",
       "      <td>Data or business analyst;Data scientist or mac...</td>\n",
       "      <td>Skills 6-8 yearsJava;SQL;Bash/ShellMySQL;SQLit...</td>\n",
       "    </tr>\n",
       "    <tr>\n",
       "      <th>1033</th>\n",
       "      <td>Data or business analyst;Data scientist or mac...</td>\n",
       "      <td>Skills 12-14 yearsRuby;Swift;HTML;CSS;Bash/She...</td>\n",
       "    </tr>\n",
       "    <tr>\n",
       "      <th>1034</th>\n",
       "      <td>Data or business analyst;Data scientist or mac...</td>\n",
       "      <td>Skills 27-29 yearsC;C++;Python;Bash/ShellNALin...</td>\n",
       "    </tr>\n",
       "    <tr>\n",
       "      <th>1035</th>\n",
       "      <td>Data or business analyst;Data scientist or mac...</td>\n",
       "      <td>Skills 0-2 yearsNANANANA</td>\n",
       "    </tr>\n",
       "  </tbody>\n",
       "</table>\n",
       "</div>"
      ],
      "text/plain": [
       "                                           Job category  \\\n",
       "1031  Data or business analyst;Data scientist or mac...   \n",
       "1032  Data or business analyst;Data scientist or mac...   \n",
       "1033  Data or business analyst;Data scientist or mac...   \n",
       "1034  Data or business analyst;Data scientist or mac...   \n",
       "1035  Data or business analyst;Data scientist or mac...   \n",
       "\n",
       "                                                 Resume  \n",
       "1031  Skills 6-8 yearsC#;CoffeeScript;JavaScript;SQL...  \n",
       "1032  Skills 6-8 yearsJava;SQL;Bash/ShellMySQL;SQLit...  \n",
       "1033  Skills 12-14 yearsRuby;Swift;HTML;CSS;Bash/She...  \n",
       "1034  Skills 27-29 yearsC;C++;Python;Bash/ShellNALin...  \n",
       "1035                           Skills 0-2 yearsNANANANA  "
      ]
     },
     "execution_count": 4,
     "metadata": {},
     "output_type": "execute_result"
    }
   ],
   "source": [
    "dataset= pd.concat([resumes, resumes2], axis=0)\n",
    "dataset.tail()"
   ]
  },
  {
   "cell_type": "code",
   "execution_count": 6,
   "metadata": {
    "scrolled": true
   },
   "outputs": [
    {
     "name": "stdout",
     "output_type": "stream",
     "text": [
      "0       skills * programming languages: python (pandas...\n",
      "1       education details \\r\\nmay 2013 to may 2017 b.e...\n",
      "2       areas of interest deep learning, control syste...\n",
      "3       skills â¢ r â¢ python â¢ sap hana â¢ table...\n",
      "4       education details \\r\\n mca   ymcaust,  faridab...\n",
      "                              ...                        \n",
      "1031    skills 6-8 yearsc#;coffeescript;javascript;sql...\n",
      "1032    skills 6-8 yearsjava;sql;bash/shellmysql;sqlit...\n",
      "1033    skills 12-14 yearsruby;swift;html;css;bash/she...\n",
      "1034    skills 27-29 yearsc;c++;python;bash/shellnalin...\n",
      "1035                             skills 0-2 yearsnananana\n",
      "Name: Resume, Length: 1739, dtype: object\n"
     ]
    }
   ],
   "source": [
    "dataset['Resume']=dataset['Resume'].str.lower()\n",
    "print(dataset['Resume'])"
   ]
  },
  {
   "cell_type": "code",
   "execution_count": 7,
   "metadata": {},
   "outputs": [],
   "source": [
    "import re\n",
    "def cleanResume(resumeText):\n",
    "    resumeText = re.sub('http\\S+\\s*', ' ', str(resumeText))  # remove URLs\n",
    "    resumeText = re.sub('RT|cc', ' ', str(resumeText))  # remove RT and cc\n",
    "    resumeText = re.sub('#\\S+', '', str(resumeText))  # remove hashtags\n",
    "    resumeText = re.sub('@\\S+', '  ', str(resumeText))  # remove mentions\n",
    "    resumeText = re.sub('[%s]' % re.escape(\"\"\"!\"#$%&'()*+,-./:;<=>?@[\\]^_`{|}~\"\"\"), ' ', str(resumeText))  # remove punctuations\n",
    "    resumeText = re.sub(r'[^\\x00-\\x7f]',r' ', str(resumeText)) \n",
    "    resumeText = re.sub('nananana', ' ', str(resumeText))  # NANANA\n",
    "    resumeText = re.sub('\\s+', ' ', str(resumeText))  # remove extra whitespace\n",
    "    return resumeText"
   ]
  },
  {
   "cell_type": "code",
   "execution_count": 8,
   "metadata": {},
   "outputs": [
    {
     "name": "stdout",
     "output_type": "stream",
     "text": [
      "31    education details may 2013 to may 2017 b e uit...\n",
      "31    skills 27 29 yearsjava javascript sql vba vb n...\n",
      "Name: cleaned_resume, dtype: object\n"
     ]
    }
   ],
   "source": [
    "dataset['cleaned_resume'] = dataset['Resume'].apply(lambda x: cleanResume(x))\n",
    "print (dataset['cleaned_resume'][31])"
   ]
  },
  {
   "cell_type": "code",
   "execution_count": 10,
   "metadata": {},
   "outputs": [],
   "source": [
    "from sklearn.model_selection import train_test_split\n",
    "from sklearn.feature_extraction.text import TfidfVectorizer\n",
    "from scipy.sparse import hstack\n",
    "\n",
    "\n",
    "tfidf = TfidfVectorizer(sublinear_tf= True, #use a logarithmic form for frequency\n",
    "                       min_df = 5, #minimum numbers of documents a word must be present in to be kept\n",
    "                       norm= 'l2', #ensure all our feature vectors have a euclidian norm of 1\n",
    "                       ngram_range= (1,2), #to indicate that we want to consider both unigrams and bigrams.\n",
    "                       stop_words ='english')\n",
    "features = tfidf.fit_transform(dataset['cleaned_resume']).toarray()"
   ]
  },
  {
   "cell_type": "code",
   "execution_count": 11,
   "metadata": {},
   "outputs": [
    {
     "name": "stdout",
     "output_type": "stream",
     "text": [
      "[[0. 0. 0. ... 0. 0. 0.]\n",
      " [0. 0. 0. ... 0. 0. 0.]\n",
      " [0. 0. 0. ... 0. 0. 0.]\n",
      " ...\n",
      " [0. 0. 0. ... 0. 0. 0.]\n",
      " [0. 0. 0. ... 0. 0. 0.]\n",
      " [0. 0. 0. ... 0. 0. 0.]]\n"
     ]
    }
   ],
   "source": [
    "print(features)\n"
   ]
  },
  {
   "cell_type": "code",
   "execution_count": 12,
   "metadata": {},
   "outputs": [],
   "source": [
    "train_set=[\"\"\"Overall 7-10+ years experience in technology, software services and / or implementation\n",
    "5-6 years+ experienced Data analyst with experience in data structure, data mapping, migration activities\n",
    "Strong experience in investigating an application from a data source, data mapping into database / other sources, field mapping standpoint\n",
    "Strong experience in SQL, PLSQL, Oracle SQL to query and understand data mapping syntax\n",
    "Past Data Analysis experience in an area that uses ETL tools like SSIS, Informatica, Datastage\n",
    "Analyst roles in Data governance project will be considered beneficial\n",
    "Strong communication, workshop facilitation, requirements gathering skills by working with a range of stakeholders – business, tech application owners, various technology sub-teams within anz bank\n",
    "Ability to document data analysis outcome attribute in word / excel in concise and succinct manner\n",
    "Ideally from banking technology background – Need to have knowledge of 1 banking domain for ex: payments, corp / institutional, markets, Lending\n",
    "For strong candidates well versed in application Data analysis – this banking domain requirement can be waived off\n",
    "Past experience in kafka – event streaming, understanding pub-sub mechanisms, understand the structure of data and understanding API calls will be highly desired\n",
    "Strong willed, problem solving mindset and ability to deal with ambiguity\"\"\"]"
   ]
  },
  {
   "cell_type": "code",
   "execution_count": 13,
   "metadata": {},
   "outputs": [],
   "source": [
    "y=tfidf.transform(train_set)\n"
   ]
  },
  {
   "cell_type": "code",
   "execution_count": 14,
   "metadata": {},
   "outputs": [],
   "source": [
    "from sklearn.metrics.pairwise import cosine_similarity\n",
    "cosine_sim = cosine_similarity(features,y)"
   ]
  },
  {
   "cell_type": "code",
   "execution_count": 16,
   "metadata": {},
   "outputs": [],
   "source": [
    "dataset[\"similarity\"]=cosine_sim"
   ]
  },
  {
   "cell_type": "code",
   "execution_count": 18,
   "metadata": {},
   "outputs": [
    {
     "data": {
      "text/html": [
       "<div>\n",
       "<style scoped>\n",
       "    .dataframe tbody tr th:only-of-type {\n",
       "        vertical-align: middle;\n",
       "    }\n",
       "\n",
       "    .dataframe tbody tr th {\n",
       "        vertical-align: top;\n",
       "    }\n",
       "\n",
       "    .dataframe thead th {\n",
       "        text-align: right;\n",
       "    }\n",
       "</style>\n",
       "<table border=\"1\" class=\"dataframe\">\n",
       "  <thead>\n",
       "    <tr style=\"text-align: right;\">\n",
       "      <th></th>\n",
       "      <th>Job category</th>\n",
       "      <th>Resume</th>\n",
       "      <th>cleaned_resume</th>\n",
       "      <th>similarity</th>\n",
       "    </tr>\n",
       "  </thead>\n",
       "  <tbody>\n",
       "    <tr>\n",
       "      <th>14</th>\n",
       "      <td>Data Science</td>\n",
       "      <td>education details \\r\\n mca   ymcaust,  faridab...</td>\n",
       "      <td>education details mca ymcaust faridabad haryan...</td>\n",
       "      <td>0.110000</td>\n",
       "    </tr>\n",
       "    <tr>\n",
       "      <th>4</th>\n",
       "      <td>Data Science</td>\n",
       "      <td>education details \\r\\n mca   ymcaust,  faridab...</td>\n",
       "      <td>education details mca ymcaust faridabad haryan...</td>\n",
       "      <td>0.110000</td>\n",
       "    </tr>\n",
       "    <tr>\n",
       "      <th>24</th>\n",
       "      <td>Data Science</td>\n",
       "      <td>education details \\r\\n mca   ymcaust,  faridab...</td>\n",
       "      <td>education details mca ymcaust faridabad haryan...</td>\n",
       "      <td>0.110000</td>\n",
       "    </tr>\n",
       "    <tr>\n",
       "      <th>34</th>\n",
       "      <td>Data Science</td>\n",
       "      <td>education details \\r\\n mca   ymcaust,  faridab...</td>\n",
       "      <td>education details mca ymcaust faridabad haryan...</td>\n",
       "      <td>0.110000</td>\n",
       "    </tr>\n",
       "    <tr>\n",
       "      <th>343</th>\n",
       "      <td>DevOps Engineer</td>\n",
       "      <td>technical skills key skills ms technology .net...</td>\n",
       "      <td>technical skills key skills ms technology net ...</td>\n",
       "      <td>0.109709</td>\n",
       "    </tr>\n",
       "  </tbody>\n",
       "</table>\n",
       "</div>"
      ],
      "text/plain": [
       "        Job category                                             Resume  \\\n",
       "14      Data Science  education details \\r\\n mca   ymcaust,  faridab...   \n",
       "4       Data Science  education details \\r\\n mca   ymcaust,  faridab...   \n",
       "24      Data Science  education details \\r\\n mca   ymcaust,  faridab...   \n",
       "34      Data Science  education details \\r\\n mca   ymcaust,  faridab...   \n",
       "343  DevOps Engineer  technical skills key skills ms technology .net...   \n",
       "\n",
       "                                        cleaned_resume  similarity  \n",
       "14   education details mca ymcaust faridabad haryan...    0.110000  \n",
       "4    education details mca ymcaust faridabad haryan...    0.110000  \n",
       "24   education details mca ymcaust faridabad haryan...    0.110000  \n",
       "34   education details mca ymcaust faridabad haryan...    0.110000  \n",
       "343  technical skills key skills ms technology net ...    0.109709  "
      ]
     },
     "execution_count": 18,
     "metadata": {},
     "output_type": "execute_result"
    }
   ],
   "source": [
    "df=dataset.sort_values(by=['similarity'],ascending=False)\n",
    "df.head()"
   ]
  },
  {
   "cell_type": "code",
   "execution_count": 19,
   "metadata": {},
   "outputs": [
    {
     "name": "stdout",
     "output_type": "stream",
     "text": [
      "[[0.08091123]\n",
      " [0.02474166]\n",
      " [0.07881404]\n",
      " ...\n",
      " [0.00238835]\n",
      " [0.00141725]\n",
      " [0.06131366]]\n"
     ]
    }
   ],
   "source": [
    "print(cosine_sim)"
   ]
  },
  {
   "cell_type": "code",
   "execution_count": null,
   "metadata": {},
   "outputs": [],
   "source": []
  }
 ],
 "metadata": {
  "kernelspec": {
   "display_name": "Python 3",
   "language": "python",
   "name": "python3"
  },
  "language_info": {
   "codemirror_mode": {
    "name": "ipython",
    "version": 3
   },
   "file_extension": ".py",
   "mimetype": "text/x-python",
   "name": "python",
   "nbconvert_exporter": "python",
   "pygments_lexer": "ipython3",
   "version": "3.8.3"
  }
 },
 "nbformat": 4,
 "nbformat_minor": 4
}
